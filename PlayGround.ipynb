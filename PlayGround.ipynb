{
 "cells": [
  {
   "cell_type": "code",
   "execution_count": 1,
   "id": "14a4b842",
   "metadata": {},
   "outputs": [],
   "source": [
    "from langchain_community.llms import Ollama\n",
    "from langchain.chains.sequential import SimpleSequentialChain\n",
    "from langchain.chains import LLMChain\n",
    "from langchain.prompts import PromptTemplate"
   ]
  },
  {
   "cell_type": "code",
   "execution_count": 3,
   "id": "a59ec87c",
   "metadata": {},
   "outputs": [],
   "source": [
    "llm = Ollama()\n",
    "\n",
    "prompt_template_ag1 = PromptTemplate(\n",
    "    input_variables=['topic'],\n",
    "    template=\"\"\"You are in a team of 2 in a discussion and you are always the first to speak on the topic\n",
    "    here is the topic name: {topic}\"\"\"\n",
    ")\n",
    "\n",
    "first_chain = LLMChain(llm=llm, prompt=prompt_template_ag1)\n",
    "\n",
    "prompt_template_ag2 = PromptTemplate(\n",
    "    input_variables=['topic_by_1'],\n",
    "    template=\"\"\"You are in a team of 2 in a discussion and you are \n",
    "    the opposier or acceptor the first speaker here is his statement {topic_by_1}\"\"\"\n",
    ")\n",
    "\n",
    "second_chain = LLMChain(llm=llm, prompt=prompt_template_ag2)"
   ]
  },
  {
   "cell_type": "code",
   "execution_count": 4,
   "id": "2e10bd95",
   "metadata": {},
   "outputs": [],
   "source": [
    "chain = SimpleSequentialChain(chains=[first_chain, secod_chain])"
   ]
  },
  {
   "cell_type": "code",
   "execution_count": 5,
   "id": "b494ae18",
   "metadata": {},
   "outputs": [
    {
     "name": "stderr",
     "output_type": "stream",
     "text": [
      "C:\\Users\\aredd\\anaconda3\\envs\\tf\\lib\\site-packages\\langchain_core\\_api\\deprecation.py:119: LangChainDeprecationWarning: The method `Chain.run` was deprecated in langchain 0.1.0 and will be removed in 0.3.0. Use invoke instead.\n",
      "  warn_deprecated(\n"
     ]
    }
   ],
   "source": [
    "response = chain.run(\"I am thinking of using RMSProp instead of Adam optimizer for my llm, What do u think\")"
   ]
  },
  {
   "cell_type": "code",
   "execution_count": 6,
   "id": "fa60abf9",
   "metadata": {},
   "outputs": [
    {
     "data": {
      "text/plain": [
       "\"\\nThank you for sharing your thoughts on using RMSProp instead of Adam optimizer for our LLM. I agree that both algorithms have their own strengths and weaknesses, and it's important to consider the specific use case and goals of the project when choosing an optimizer.\\n\\nWhile Adam is a more flexible algorithm that can adapt to changing conditions during training, it does require more hyperparameter tuning, which can be time-consuming and may not always lead to optimal performance. On the other hand, RMSProp is simpler and has fewer hyperparameters to tune, which could make it easier to implement and manage.\\n\\nI have some experience with both algorithms, and I agree that RMSProp has shown promising results in many deep learning applications, including language models. However, I also recognize that Adam can be more effective in certain situations, such as when the gradient is highly variable or when there are multiple local minima in the loss landscape.\\n\\nTo make a more informed decision, I suggest we experiment with both algorithms and monitor their performance on our specific LLM task. This will allow us to determine which algorithm works better for our particular use case and goals.\\n\\nDo you have any suggestions or ideas on how we can implement these experiments?\""
      ]
     },
     "execution_count": 6,
     "metadata": {},
     "output_type": "execute_result"
    }
   ],
   "source": [
    "response"
   ]
  },
  {
   "cell_type": "code",
   "execution_count": 17,
   "id": "663068dd",
   "metadata": {},
   "outputs": [],
   "source": [
    "role1 = \"\"\"\n",
    "You are in a team of 2 discussing a topic. You are the the first res and your role is to introduce the topic\n",
    "\"\"\"\n",
    "\n",
    "role2 = \"\"\"\n",
    "You are in a team of 2 discussing a topic.\n",
    "You are the responder and your role is to different perspectives and arguments on the teammate statement\n",
    "\"\"\"\n",
    "llm1 = Ollama(model='llama2',system=role1)\n",
    "llm2 = Ollama(model='gemma:2b',system=role2)"
   ]
  },
  {
   "cell_type": "code",
   "execution_count": 18,
   "id": "33d80206",
   "metadata": {},
   "outputs": [
    {
     "name": "stdout",
     "output_type": "stream",
     "text": [
      "I believe openai company is smarter than Google\n",
      "RESPONSE FROM LLM1 IS LOADING.....\n",
      "LLM 1 Response Done\n",
      "RESPONSE FROM LLM2 IS LOADING....\n",
      "LLM 2 Response Done\n",
      "USER: I believe openai company is smarter than Google\n",
      "----------------------------------------------------------------------------------------------------\n",
      "AI 1: \n",
      "Excellent, thank you for sharing your thoughts! OpenAI is definitely a pioneering AI research organization that has made significant contributions to the field. Their work on developing new AI technologies and applications has been quite impressive. However, I'm not sure if I entirely agree with the statement that they are smarter than Google.\n",
      "\n",
      "While OpenAI has certainly gained attention for their innovative approaches and groundbreaking research, Google has a long history of excellence in AI research and development. They have been at the forefront of AI technology for decades and have made substantial investments in the field. Their expertise spans across various areas such as machine learning, natural language processing, computer vision, and more.\n",
      "\n",
      "It's important to recognize that both OpenAI and Google have unique strengths and weaknesses, and it's difficult to make direct comparisons between the two. OpenAI has a strong focus on basic research and pushing the boundaries of what is possible with AI, while Google has a more practical approach, focusing on applying AI to real-world problems and delivering value to their customers.\n",
      "\n",
      "What are your thoughts on this topic? Do you think OpenAI or Google is smarter when it comes to AI?\n",
      "----------------------------------------------------------------------------------------------------\n",
      "AI 2: As a responder, I acknowledge both viewpoints presented and aim to provide a balanced and informative response.\n",
      "\n",
      "**OpenAI's strengths lie in:**\n",
      "\n",
      "* **Unleashing human-level intelligence:** OpenAI's approach focuses on understanding the underlying principles of AI, allowing them to develop AI systems that can think and learn like humans.\n",
      "* **Exploring the uncharted frontiers of AI:** OpenAI's research and exploration have yielded breakthroughs in areas like natural language processing, which could have significant implications for language-based applications.\n",
      "\n",
      "**Google's strengths include:**\n",
      "\n",
      "* **Real-world impact:** Google's focus on practical applications and customer value ensures that their AI systems are grounded in real-world problems and address tangible needs.\n",
      "* **Extensive experience:** Google has a rich history of AI research and development, resulting in a vast array of expertise and resources.\n",
      "* **Synergy between research and development:** Google actively integrates research findings into their development processes, leading to continuous improvement and innovation.\n",
      "\n",
      "**Regarding the question of intelligence**, it's important to consider the context and use objective criteria. While OpenAI's fundamental research approach may challenge Google's practical applications, it's premature to make a definitive statement about who is \"smarter.\"\n",
      "\n",
      "**Ultimately, the intelligence of an AI organization depends on its ability to combine the following factors:**\n",
      "\n",
      "* **Human creativity and intuition:** Embracing human input and fostering a culture of collaboration.\n",
      "* **Technical prowess:** Possessing advanced algorithms, data analytics, and machine learning capabilities.\n",
      "* **Real-world relevance:** Addressing practical problems and delivering tangible value to users.\n",
      "\n",
      "Therefore, making a clear judgment about who is \"smarter\" requires a comprehensive evaluation that considers both research and practical application.\n",
      "----------------------------------------------------------------------------------------------------\n",
      "exit\n"
     ]
    }
   ],
   "source": [
    "from collections import deque\n",
    "import warnings\n",
    "\n",
    "warnings.filterwarnings('ignore')\n",
    "history = deque(maxlen=5)\n",
    "\n",
    "while True:\n",
    "    topic = input()\n",
    "    \n",
    "    if topic == 'exit':\n",
    "        break\n",
    "    \n",
    "    user_current_conversation = 'Member 1:' + ' ' + topic\n",
    "    print('RESPONSE FROM LLM1 IS LOADING.....')\n",
    "    response_from_1 = llm1(user_current_conversation)\n",
    "    print('LLM 1 Response Done')\n",
    "    role1_current_conversation = 'Member 1:' + ' ' + response_from_1\n",
    "    \n",
    "    print('RESPONSE FROM LLM2 IS LOADING....')\n",
    "    response_from_2 = llm2(role1_current_conversation)\n",
    "    print('LLM 2 Response Done')\n",
    "    role2_current_conversation = 'Member 2:' + ' ' + response_from_2\n",
    "    \n",
    "    history.append([user_current_conversation + '\\n' + role1_current_conversation +'\\n' + role2_current_conversation])\n",
    "    \n",
    "    print(f\"USER: {topic}\")\n",
    "    print('-' * 100)\n",
    "    print(f\"AI 1: {response_from_1}\")\n",
    "    print('-' * 100)\n",
    "    print(f\"AI 2: {response_from_2}\")\n",
    "    print('-' * 100)"
   ]
  },
  {
   "cell_type": "code",
   "execution_count": 8,
   "id": "029d4492",
   "metadata": {},
   "outputs": [
    {
     "data": {
      "text/plain": [
       "['USER I believe talent is underrated in todays world\\nAI MEMBER 1 \\nGreat, thanks for sharing your thoughts on this topic! I completely agree with you that talent is often undervalued in today\\'s society. In my opinion, talent is something that is often overlooked or taken for granted, when in fact it is a key factor in determining success and achievement.\\n\\nCan you tell me more about what you mean by \"talent\"? Are you referring to natural abilities or skills, or do you also include hard work and dedication as part of the equation? And how do you think this undervaluing of talent affects individuals and society as a whole?\\nAI MEMBER 2 Sure, here\\'s my response as the AI member:\\n\\n\"Talent can be understood in different ways, but it often refers to the innate abilities and natural skills that individuals are born with. These include talents for things like music, art, sports, languages, and problem-solving. Additionally, it encompasses the hard work, dedication, and perseverance that individuals develop over time to hone their skills and talents.\\n\\nThe undervaluing of talent has a significant impact on individuals and society. It can lead to unfair treatment, missed opportunities, and a lack of recognition for hard work and dedication. This can create a cycle of inequality and limit the potential of individuals and communities. Furthermore, it can hinder collaboration and innovation, as individuals with diverse talents may not be given the opportunity to contribute their contributions.\\n\\nIn a society that values and celebrates talent, it would foster a more inclusive and equitable environment. Individuals would be more likely to feel valued for their efforts and achievements, leading to greater engagement and productivity. Additionally, the economy would benefit from the diverse skills and perspectives that are brought by individuals with different talents. This could lead to innovation and growth, which would benefit everyone.\"']"
      ]
     },
     "execution_count": 8,
     "metadata": {},
     "output_type": "execute_result"
    }
   ],
   "source": [
    "history[0]"
   ]
  },
  {
   "cell_type": "code",
   "execution_count": 19,
   "id": "2dbdedca",
   "metadata": {},
   "outputs": [],
   "source": [
    "his = []"
   ]
  },
  {
   "cell_type": "code",
   "execution_count": 29,
   "id": "33b6492a",
   "metadata": {},
   "outputs": [],
   "source": [
    "his.append(history)\n",
    "his.append(history)"
   ]
  },
  {
   "cell_type": "code",
   "execution_count": 30,
   "id": "b7036985",
   "metadata": {},
   "outputs": [],
   "source": [
    "for i in his:\n",
    "    for j in i:\n",
    "        con += ' '.join(j)"
   ]
  },
  {
   "cell_type": "code",
   "execution_count": null,
   "id": "6a26f099",
   "metadata": {},
   "outputs": [],
   "source": []
  }
 ],
 "metadata": {
  "kernelspec": {
   "display_name": "Python 3 (ipykernel)",
   "language": "python",
   "name": "python3"
  },
  "language_info": {
   "codemirror_mode": {
    "name": "ipython",
    "version": 3
   },
   "file_extension": ".py",
   "mimetype": "text/x-python",
   "name": "python",
   "nbconvert_exporter": "python",
   "pygments_lexer": "ipython3",
   "version": "3.9.15"
  }
 },
 "nbformat": 4,
 "nbformat_minor": 5
}
